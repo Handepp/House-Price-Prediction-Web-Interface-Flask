{
 "cells": [
  {
   "cell_type": "markdown",
   "id": "44919296",
   "metadata": {},
   "source": [
    "# Prediksi Harga Rumah\n",
    "\n",
    "Ewako 5 : \n",
    "1. Reyhan Devara\n",
    "2. Desty Nurul Anitsa\n",
    "3. Diva Hana Shabira\n",
    "4. Putri Ardianti\n",
    "5. Nabila Rasya Putri Amani\n",
    "6. Ryana Purwaningrum"
   ]
  },
  {
   "cell_type": "markdown",
   "id": "9b0921ce",
   "metadata": {},
   "source": [
    "Program ini adalah program model AI untuk memprediksi harga rumah. Dimana model ini nantinya akan di implementasikan dengan flask agar dapat dilakukan prediksi pada web interface."
   ]
  },
  {
   "cell_type": "markdown",
   "id": "4c1eb630",
   "metadata": {},
   "source": [
    "## Modules dan Packages"
   ]
  },
  {
   "cell_type": "code",
   "execution_count": 1,
   "id": "79414c69",
   "metadata": {},
   "outputs": [],
   "source": [
    "import numpy as np\n",
    "import matplotlib.pyplot as plt\n",
    "import pandas as pd\n",
    "import seaborn as sns\n",
    "\n",
    "from sklearn.neighbors import KNeighborsRegressor\n",
    "\n",
    "from sklearn.metrics import r2_score\n",
    "from sklearn.preprocessing import StandardScaler\n",
    "from sklearn.model_selection import train_test_split\n",
    "from sklearn.metrics import mean_squared_error\n",
    "\n",
    "import joblib\n",
    "\n",
    "import warnings\n",
    "warnings.simplefilter('ignore')"
   ]
  },
  {
   "cell_type": "markdown",
   "id": "fc9ab58a",
   "metadata": {},
   "source": [
    "## Import Data"
   ]
  },
  {
   "cell_type": "code",
   "execution_count": 2,
   "id": "a4fb2db5",
   "metadata": {},
   "outputs": [
    {
     "data": {
      "text/plain": [
       "(1010, 8)"
      ]
     },
     "execution_count": 2,
     "metadata": {},
     "output_type": "execute_result"
    }
   ],
   "source": [
    "df = pd.read_excel(\"DATA RUMAH.xlsx\")\n",
    "df.shape"
   ]
  },
  {
   "cell_type": "markdown",
   "id": "5156d82b",
   "metadata": {},
   "source": [
    "## Preprocessing Data"
   ]
  },
  {
   "cell_type": "code",
   "execution_count": 3,
   "id": "cf3c0043",
   "metadata": {},
   "outputs": [
    {
     "data": {
      "text/html": [
       "<div>\n",
       "<style scoped>\n",
       "    .dataframe tbody tr th:only-of-type {\n",
       "        vertical-align: middle;\n",
       "    }\n",
       "\n",
       "    .dataframe tbody tr th {\n",
       "        vertical-align: top;\n",
       "    }\n",
       "\n",
       "    .dataframe thead th {\n",
       "        text-align: right;\n",
       "    }\n",
       "</style>\n",
       "<table border=\"1\" class=\"dataframe\">\n",
       "  <thead>\n",
       "    <tr style=\"text-align: right;\">\n",
       "      <th></th>\n",
       "      <th>NO</th>\n",
       "      <th>NAMA RUMAH</th>\n",
       "      <th>HARGA</th>\n",
       "      <th>LB</th>\n",
       "      <th>LT</th>\n",
       "      <th>KT</th>\n",
       "      <th>KM</th>\n",
       "      <th>GRS</th>\n",
       "    </tr>\n",
       "  </thead>\n",
       "  <tbody>\n",
       "    <tr>\n",
       "      <th>0</th>\n",
       "      <td>1</td>\n",
       "      <td>Rumah Murah Hook Tebet Timur, Tebet, Jakarta S...</td>\n",
       "      <td>3800000000</td>\n",
       "      <td>220</td>\n",
       "      <td>220</td>\n",
       "      <td>3</td>\n",
       "      <td>3</td>\n",
       "      <td>0</td>\n",
       "    </tr>\n",
       "    <tr>\n",
       "      <th>1</th>\n",
       "      <td>2</td>\n",
       "      <td>Rumah Modern di Tebet dekat Stasiun, Tebet, Ja...</td>\n",
       "      <td>4600000000</td>\n",
       "      <td>180</td>\n",
       "      <td>137</td>\n",
       "      <td>4</td>\n",
       "      <td>3</td>\n",
       "      <td>2</td>\n",
       "    </tr>\n",
       "    <tr>\n",
       "      <th>2</th>\n",
       "      <td>3</td>\n",
       "      <td>Rumah Mewah 2 Lantai Hanya 3 Menit Ke Tebet, T...</td>\n",
       "      <td>3000000000</td>\n",
       "      <td>267</td>\n",
       "      <td>250</td>\n",
       "      <td>4</td>\n",
       "      <td>4</td>\n",
       "      <td>4</td>\n",
       "    </tr>\n",
       "    <tr>\n",
       "      <th>3</th>\n",
       "      <td>4</td>\n",
       "      <td>Rumah Baru Tebet, Tebet, Jakarta Selatan</td>\n",
       "      <td>430000000</td>\n",
       "      <td>40</td>\n",
       "      <td>25</td>\n",
       "      <td>2</td>\n",
       "      <td>2</td>\n",
       "      <td>0</td>\n",
       "    </tr>\n",
       "    <tr>\n",
       "      <th>4</th>\n",
       "      <td>5</td>\n",
       "      <td>Rumah Bagus Tebet komp Gudang Peluru lt 350m, ...</td>\n",
       "      <td>9000000000</td>\n",
       "      <td>400</td>\n",
       "      <td>355</td>\n",
       "      <td>6</td>\n",
       "      <td>5</td>\n",
       "      <td>3</td>\n",
       "    </tr>\n",
       "  </tbody>\n",
       "</table>\n",
       "</div>"
      ],
      "text/plain": [
       "   NO                                         NAMA RUMAH       HARGA   LB  \\\n",
       "0   1  Rumah Murah Hook Tebet Timur, Tebet, Jakarta S...  3800000000  220   \n",
       "1   2  Rumah Modern di Tebet dekat Stasiun, Tebet, Ja...  4600000000  180   \n",
       "2   3  Rumah Mewah 2 Lantai Hanya 3 Menit Ke Tebet, T...  3000000000  267   \n",
       "3   4           Rumah Baru Tebet, Tebet, Jakarta Selatan   430000000   40   \n",
       "4   5  Rumah Bagus Tebet komp Gudang Peluru lt 350m, ...  9000000000  400   \n",
       "\n",
       "    LT  KT  KM  GRS  \n",
       "0  220   3   3    0  \n",
       "1  137   4   3    2  \n",
       "2  250   4   4    4  \n",
       "3   25   2   2    0  \n",
       "4  355   6   5    3  "
      ]
     },
     "execution_count": 3,
     "metadata": {},
     "output_type": "execute_result"
    }
   ],
   "source": [
    "df.head()"
   ]
  },
  {
   "cell_type": "code",
   "execution_count": 4,
   "id": "14cc022d",
   "metadata": {},
   "outputs": [],
   "source": [
    "df = df.drop(['NO','NAMA RUMAH'],axis=1)"
   ]
  },
  {
   "cell_type": "code",
   "execution_count": 5,
   "id": "f9b6ae4c",
   "metadata": {},
   "outputs": [
    {
     "data": {
      "text/html": [
       "<div>\n",
       "<style scoped>\n",
       "    .dataframe tbody tr th:only-of-type {\n",
       "        vertical-align: middle;\n",
       "    }\n",
       "\n",
       "    .dataframe tbody tr th {\n",
       "        vertical-align: top;\n",
       "    }\n",
       "\n",
       "    .dataframe thead th {\n",
       "        text-align: right;\n",
       "    }\n",
       "</style>\n",
       "<table border=\"1\" class=\"dataframe\">\n",
       "  <thead>\n",
       "    <tr style=\"text-align: right;\">\n",
       "      <th></th>\n",
       "      <th>HARGA</th>\n",
       "      <th>LB</th>\n",
       "      <th>LT</th>\n",
       "      <th>KT</th>\n",
       "      <th>KM</th>\n",
       "      <th>GRS</th>\n",
       "    </tr>\n",
       "  </thead>\n",
       "  <tbody>\n",
       "    <tr>\n",
       "      <th>0</th>\n",
       "      <td>3800000000</td>\n",
       "      <td>220</td>\n",
       "      <td>220</td>\n",
       "      <td>3</td>\n",
       "      <td>3</td>\n",
       "      <td>0</td>\n",
       "    </tr>\n",
       "    <tr>\n",
       "      <th>1</th>\n",
       "      <td>4600000000</td>\n",
       "      <td>180</td>\n",
       "      <td>137</td>\n",
       "      <td>4</td>\n",
       "      <td>3</td>\n",
       "      <td>2</td>\n",
       "    </tr>\n",
       "    <tr>\n",
       "      <th>2</th>\n",
       "      <td>3000000000</td>\n",
       "      <td>267</td>\n",
       "      <td>250</td>\n",
       "      <td>4</td>\n",
       "      <td>4</td>\n",
       "      <td>4</td>\n",
       "    </tr>\n",
       "    <tr>\n",
       "      <th>3</th>\n",
       "      <td>430000000</td>\n",
       "      <td>40</td>\n",
       "      <td>25</td>\n",
       "      <td>2</td>\n",
       "      <td>2</td>\n",
       "      <td>0</td>\n",
       "    </tr>\n",
       "    <tr>\n",
       "      <th>4</th>\n",
       "      <td>9000000000</td>\n",
       "      <td>400</td>\n",
       "      <td>355</td>\n",
       "      <td>6</td>\n",
       "      <td>5</td>\n",
       "      <td>3</td>\n",
       "    </tr>\n",
       "  </tbody>\n",
       "</table>\n",
       "</div>"
      ],
      "text/plain": [
       "        HARGA   LB   LT  KT  KM  GRS\n",
       "0  3800000000  220  220   3   3    0\n",
       "1  4600000000  180  137   4   3    2\n",
       "2  3000000000  267  250   4   4    4\n",
       "3   430000000   40   25   2   2    0\n",
       "4  9000000000  400  355   6   5    3"
      ]
     },
     "execution_count": 5,
     "metadata": {},
     "output_type": "execute_result"
    }
   ],
   "source": [
    "df.head()"
   ]
  },
  {
   "cell_type": "code",
   "execution_count": 6,
   "id": "187bf4c6",
   "metadata": {},
   "outputs": [
    {
     "data": {
      "text/html": [
       "<div>\n",
       "<style scoped>\n",
       "    .dataframe tbody tr th:only-of-type {\n",
       "        vertical-align: middle;\n",
       "    }\n",
       "\n",
       "    .dataframe tbody tr th {\n",
       "        vertical-align: top;\n",
       "    }\n",
       "\n",
       "    .dataframe thead th {\n",
       "        text-align: right;\n",
       "    }\n",
       "</style>\n",
       "<table border=\"1\" class=\"dataframe\">\n",
       "  <thead>\n",
       "    <tr style=\"text-align: right;\">\n",
       "      <th></th>\n",
       "      <th>HARGA</th>\n",
       "      <th>LB</th>\n",
       "      <th>LT</th>\n",
       "      <th>KT</th>\n",
       "      <th>KM</th>\n",
       "      <th>GRS</th>\n",
       "    </tr>\n",
       "  </thead>\n",
       "  <tbody>\n",
       "    <tr>\n",
       "      <th>count</th>\n",
       "      <td>1.010000e+03</td>\n",
       "      <td>1010.000000</td>\n",
       "      <td>1010.000000</td>\n",
       "      <td>1010.000000</td>\n",
       "      <td>1010.000000</td>\n",
       "      <td>1010.000000</td>\n",
       "    </tr>\n",
       "    <tr>\n",
       "      <th>mean</th>\n",
       "      <td>7.628987e+09</td>\n",
       "      <td>276.539604</td>\n",
       "      <td>237.432673</td>\n",
       "      <td>4.668317</td>\n",
       "      <td>3.607921</td>\n",
       "      <td>1.920792</td>\n",
       "    </tr>\n",
       "    <tr>\n",
       "      <th>std</th>\n",
       "      <td>7.340946e+09</td>\n",
       "      <td>177.864557</td>\n",
       "      <td>179.957604</td>\n",
       "      <td>1.572776</td>\n",
       "      <td>1.420066</td>\n",
       "      <td>1.510998</td>\n",
       "    </tr>\n",
       "    <tr>\n",
       "      <th>min</th>\n",
       "      <td>4.300000e+08</td>\n",
       "      <td>40.000000</td>\n",
       "      <td>25.000000</td>\n",
       "      <td>2.000000</td>\n",
       "      <td>1.000000</td>\n",
       "      <td>0.000000</td>\n",
       "    </tr>\n",
       "    <tr>\n",
       "      <th>25%</th>\n",
       "      <td>3.262500e+09</td>\n",
       "      <td>150.000000</td>\n",
       "      <td>130.000000</td>\n",
       "      <td>4.000000</td>\n",
       "      <td>3.000000</td>\n",
       "      <td>1.000000</td>\n",
       "    </tr>\n",
       "    <tr>\n",
       "      <th>50%</th>\n",
       "      <td>5.000000e+09</td>\n",
       "      <td>216.500000</td>\n",
       "      <td>165.000000</td>\n",
       "      <td>4.000000</td>\n",
       "      <td>3.000000</td>\n",
       "      <td>2.000000</td>\n",
       "    </tr>\n",
       "    <tr>\n",
       "      <th>75%</th>\n",
       "      <td>9.000000e+09</td>\n",
       "      <td>350.000000</td>\n",
       "      <td>290.000000</td>\n",
       "      <td>5.000000</td>\n",
       "      <td>4.000000</td>\n",
       "      <td>2.000000</td>\n",
       "    </tr>\n",
       "    <tr>\n",
       "      <th>max</th>\n",
       "      <td>6.500000e+10</td>\n",
       "      <td>1126.000000</td>\n",
       "      <td>1400.000000</td>\n",
       "      <td>10.000000</td>\n",
       "      <td>10.000000</td>\n",
       "      <td>10.000000</td>\n",
       "    </tr>\n",
       "  </tbody>\n",
       "</table>\n",
       "</div>"
      ],
      "text/plain": [
       "              HARGA           LB           LT           KT           KM  \\\n",
       "count  1.010000e+03  1010.000000  1010.000000  1010.000000  1010.000000   \n",
       "mean   7.628987e+09   276.539604   237.432673     4.668317     3.607921   \n",
       "std    7.340946e+09   177.864557   179.957604     1.572776     1.420066   \n",
       "min    4.300000e+08    40.000000    25.000000     2.000000     1.000000   \n",
       "25%    3.262500e+09   150.000000   130.000000     4.000000     3.000000   \n",
       "50%    5.000000e+09   216.500000   165.000000     4.000000     3.000000   \n",
       "75%    9.000000e+09   350.000000   290.000000     5.000000     4.000000   \n",
       "max    6.500000e+10  1126.000000  1400.000000    10.000000    10.000000   \n",
       "\n",
       "               GRS  \n",
       "count  1010.000000  \n",
       "mean      1.920792  \n",
       "std       1.510998  \n",
       "min       0.000000  \n",
       "25%       1.000000  \n",
       "50%       2.000000  \n",
       "75%       2.000000  \n",
       "max      10.000000  "
      ]
     },
     "execution_count": 6,
     "metadata": {},
     "output_type": "execute_result"
    }
   ],
   "source": [
    "df = df.dropna(axis=0)\n",
    "df.describe()"
   ]
  },
  {
   "cell_type": "code",
   "execution_count": 7,
   "id": "ab663fbf",
   "metadata": {},
   "outputs": [
    {
     "data": {
      "text/plain": [
       "HARGA    0\n",
       "LB       0\n",
       "LT       0\n",
       "KT       0\n",
       "KM       0\n",
       "GRS      0\n",
       "dtype: int64"
      ]
     },
     "execution_count": 7,
     "metadata": {},
     "output_type": "execute_result"
    }
   ],
   "source": [
    "df.isna().sum()"
   ]
  },
  {
   "cell_type": "code",
   "execution_count": 8,
   "id": "fc37e300",
   "metadata": {},
   "outputs": [
    {
     "name": "stdout",
     "output_type": "stream",
     "text": [
      "<class 'pandas.core.frame.DataFrame'>\n",
      "RangeIndex: 1010 entries, 0 to 1009\n",
      "Data columns (total 6 columns):\n",
      " #   Column  Non-Null Count  Dtype\n",
      "---  ------  --------------  -----\n",
      " 0   HARGA   1010 non-null   int64\n",
      " 1   LB      1010 non-null   int64\n",
      " 2   LT      1010 non-null   int64\n",
      " 3   KT      1010 non-null   int64\n",
      " 4   KM      1010 non-null   int64\n",
      " 5   GRS     1010 non-null   int64\n",
      "dtypes: int64(6)\n",
      "memory usage: 47.5 KB\n"
     ]
    }
   ],
   "source": [
    "df.info()"
   ]
  },
  {
   "cell_type": "code",
   "execution_count": 9,
   "id": "a4f656a4",
   "metadata": {},
   "outputs": [
    {
     "data": {
      "text/plain": [
       "43"
      ]
     },
     "execution_count": 9,
     "metadata": {},
     "output_type": "execute_result"
    }
   ],
   "source": [
    "df.duplicated().sum()"
   ]
  },
  {
   "cell_type": "code",
   "execution_count": 10,
   "id": "086c8f70",
   "metadata": {},
   "outputs": [],
   "source": [
    "df = df.drop_duplicates()"
   ]
  },
  {
   "cell_type": "code",
   "execution_count": 11,
   "id": "b56aaf2e",
   "metadata": {},
   "outputs": [
    {
     "data": {
      "text/plain": [
       "0"
      ]
     },
     "execution_count": 11,
     "metadata": {},
     "output_type": "execute_result"
    }
   ],
   "source": [
    "df.duplicated().sum()"
   ]
  },
  {
   "cell_type": "markdown",
   "id": "cfff000f",
   "metadata": {},
   "source": [
    "## Korelasi Data"
   ]
  },
  {
   "cell_type": "code",
   "execution_count": 12,
   "id": "4fbce799",
   "metadata": {},
   "outputs": [
    {
     "data": {
      "text/html": [
       "<style type=\"text/css\">\n",
       "#T_68088_row0_col0, #T_68088_row1_col1, #T_68088_row2_col2, #T_68088_row3_col3, #T_68088_row4_col4, #T_68088_row5_col5 {\n",
       "  background-color: #023858;\n",
       "  color: #f1f1f1;\n",
       "}\n",
       "#T_68088_row0_col1 {\n",
       "  background-color: #5c9fc9;\n",
       "  color: #f1f1f1;\n",
       "}\n",
       "#T_68088_row0_col2 {\n",
       "  background-color: #2081b9;\n",
       "  color: #f1f1f1;\n",
       "}\n",
       "#T_68088_row0_col3 {\n",
       "  background-color: #f7f0f7;\n",
       "  color: #000000;\n",
       "}\n",
       "#T_68088_row0_col4 {\n",
       "  background-color: #f0eaf4;\n",
       "  color: #000000;\n",
       "}\n",
       "#T_68088_row0_col5 {\n",
       "  background-color: #cacee5;\n",
       "  color: #000000;\n",
       "}\n",
       "#T_68088_row1_col0 {\n",
       "  background-color: #358fc0;\n",
       "  color: #f1f1f1;\n",
       "}\n",
       "#T_68088_row1_col2 {\n",
       "  background-color: #4e9ac6;\n",
       "  color: #f1f1f1;\n",
       "}\n",
       "#T_68088_row1_col3, #T_68088_row5_col0 {\n",
       "  background-color: #d7d6e9;\n",
       "  color: #000000;\n",
       "}\n",
       "#T_68088_row1_col4 {\n",
       "  background-color: #c6cce3;\n",
       "  color: #000000;\n",
       "}\n",
       "#T_68088_row1_col5 {\n",
       "  background-color: #c5cce3;\n",
       "  color: #000000;\n",
       "}\n",
       "#T_68088_row2_col0 {\n",
       "  background-color: #1379b5;\n",
       "  color: #f1f1f1;\n",
       "}\n",
       "#T_68088_row2_col1 {\n",
       "  background-color: #62a2cb;\n",
       "  color: #f1f1f1;\n",
       "}\n",
       "#T_68088_row2_col3 {\n",
       "  background-color: #dbdaeb;\n",
       "  color: #000000;\n",
       "}\n",
       "#T_68088_row2_col4, #T_68088_row4_col5 {\n",
       "  background-color: #f4edf6;\n",
       "  color: #000000;\n",
       "}\n",
       "#T_68088_row2_col5 {\n",
       "  background-color: #c9cee4;\n",
       "  color: #000000;\n",
       "}\n",
       "#T_68088_row3_col0, #T_68088_row3_col1, #T_68088_row3_col5, #T_68088_row4_col2, #T_68088_row5_col3, #T_68088_row5_col4 {\n",
       "  background-color: #fff7fb;\n",
       "  color: #000000;\n",
       "}\n",
       "#T_68088_row3_col2 {\n",
       "  background-color: #f6eff7;\n",
       "  color: #000000;\n",
       "}\n",
       "#T_68088_row3_col4 {\n",
       "  background-color: #71a8ce;\n",
       "  color: #f1f1f1;\n",
       "}\n",
       "#T_68088_row4_col0 {\n",
       "  background-color: #ede8f3;\n",
       "  color: #000000;\n",
       "}\n",
       "#T_68088_row4_col1, #T_68088_row5_col2 {\n",
       "  background-color: #e7e3f0;\n",
       "  color: #000000;\n",
       "}\n",
       "#T_68088_row4_col3 {\n",
       "  background-color: #60a1ca;\n",
       "  color: #f1f1f1;\n",
       "}\n",
       "#T_68088_row5_col1 {\n",
       "  background-color: #f3edf5;\n",
       "  color: #000000;\n",
       "}\n",
       "</style>\n",
       "<table id=\"T_68088\">\n",
       "  <thead>\n",
       "    <tr>\n",
       "      <th class=\"blank level0\" >&nbsp;</th>\n",
       "      <th id=\"T_68088_level0_col0\" class=\"col_heading level0 col0\" >HARGA</th>\n",
       "      <th id=\"T_68088_level0_col1\" class=\"col_heading level0 col1\" >LB</th>\n",
       "      <th id=\"T_68088_level0_col2\" class=\"col_heading level0 col2\" >LT</th>\n",
       "      <th id=\"T_68088_level0_col3\" class=\"col_heading level0 col3\" >KT</th>\n",
       "      <th id=\"T_68088_level0_col4\" class=\"col_heading level0 col4\" >KM</th>\n",
       "      <th id=\"T_68088_level0_col5\" class=\"col_heading level0 col5\" >GRS</th>\n",
       "    </tr>\n",
       "  </thead>\n",
       "  <tbody>\n",
       "    <tr>\n",
       "      <th id=\"T_68088_level0_row0\" class=\"row_heading level0 row0\" >HARGA</th>\n",
       "      <td id=\"T_68088_row0_col0\" class=\"data row0 col0\" >1.00</td>\n",
       "      <td id=\"T_68088_row0_col1\" class=\"data row0 col1\" >0.75</td>\n",
       "      <td id=\"T_68088_row0_col2\" class=\"data row0 col2\" >0.81</td>\n",
       "      <td id=\"T_68088_row0_col3\" class=\"data row0 col3\" >0.33</td>\n",
       "      <td id=\"T_68088_row0_col4\" class=\"data row0 col4\" >0.41</td>\n",
       "      <td id=\"T_68088_row0_col5\" class=\"data row0 col5\" >0.48</td>\n",
       "    </tr>\n",
       "    <tr>\n",
       "      <th id=\"T_68088_level0_row1\" class=\"row_heading level0 row1\" >LB</th>\n",
       "      <td id=\"T_68088_row1_col0\" class=\"data row1 col0\" >0.75</td>\n",
       "      <td id=\"T_68088_row1_col1\" class=\"data row1 col1\" >1.00</td>\n",
       "      <td id=\"T_68088_row1_col2\" class=\"data row1 col2\" >0.74</td>\n",
       "      <td id=\"T_68088_row1_col3\" class=\"data row1 col3\" >0.45</td>\n",
       "      <td id=\"T_68088_row1_col4\" class=\"data row1 col4\" >0.53</td>\n",
       "      <td id=\"T_68088_row1_col5\" class=\"data row1 col5\" >0.49</td>\n",
       "    </tr>\n",
       "    <tr>\n",
       "      <th id=\"T_68088_level0_row2\" class=\"row_heading level0 row2\" >LT</th>\n",
       "      <td id=\"T_68088_row2_col0\" class=\"data row2 col0\" >0.81</td>\n",
       "      <td id=\"T_68088_row2_col1\" class=\"data row2 col1\" >0.74</td>\n",
       "      <td id=\"T_68088_row2_col2\" class=\"data row2 col2\" >1.00</td>\n",
       "      <td id=\"T_68088_row2_col3\" class=\"data row2 col3\" >0.43</td>\n",
       "      <td id=\"T_68088_row2_col4\" class=\"data row2 col4\" >0.39</td>\n",
       "      <td id=\"T_68088_row2_col5\" class=\"data row2 col5\" >0.48</td>\n",
       "    </tr>\n",
       "    <tr>\n",
       "      <th id=\"T_68088_level0_row3\" class=\"row_heading level0 row3\" >KT</th>\n",
       "      <td id=\"T_68088_row3_col0\" class=\"data row3 col0\" >0.33</td>\n",
       "      <td id=\"T_68088_row3_col1\" class=\"data row3 col1\" >0.45</td>\n",
       "      <td id=\"T_68088_row3_col2\" class=\"data row3 col2\" >0.43</td>\n",
       "      <td id=\"T_68088_row3_col3\" class=\"data row3 col3\" >1.00</td>\n",
       "      <td id=\"T_68088_row3_col4\" class=\"data row3 col4\" >0.67</td>\n",
       "      <td id=\"T_68088_row3_col5\" class=\"data row3 col5\" >0.29</td>\n",
       "    </tr>\n",
       "    <tr>\n",
       "      <th id=\"T_68088_level0_row4\" class=\"row_heading level0 row4\" >KM</th>\n",
       "      <td id=\"T_68088_row4_col0\" class=\"data row4 col0\" >0.41</td>\n",
       "      <td id=\"T_68088_row4_col1\" class=\"data row4 col1\" >0.53</td>\n",
       "      <td id=\"T_68088_row4_col2\" class=\"data row4 col2\" >0.39</td>\n",
       "      <td id=\"T_68088_row4_col3\" class=\"data row4 col3\" >0.67</td>\n",
       "      <td id=\"T_68088_row4_col4\" class=\"data row4 col4\" >1.00</td>\n",
       "      <td id=\"T_68088_row4_col5\" class=\"data row4 col5\" >0.34</td>\n",
       "    </tr>\n",
       "    <tr>\n",
       "      <th id=\"T_68088_level0_row5\" class=\"row_heading level0 row5\" >GRS</th>\n",
       "      <td id=\"T_68088_row5_col0\" class=\"data row5 col0\" >0.48</td>\n",
       "      <td id=\"T_68088_row5_col1\" class=\"data row5 col1\" >0.49</td>\n",
       "      <td id=\"T_68088_row5_col2\" class=\"data row5 col2\" >0.48</td>\n",
       "      <td id=\"T_68088_row5_col3\" class=\"data row5 col3\" >0.29</td>\n",
       "      <td id=\"T_68088_row5_col4\" class=\"data row5 col4\" >0.34</td>\n",
       "      <td id=\"T_68088_row5_col5\" class=\"data row5 col5\" >1.00</td>\n",
       "    </tr>\n",
       "  </tbody>\n",
       "</table>\n"
      ],
      "text/plain": [
       "<pandas.io.formats.style.Styler at 0x224f19de4c0>"
      ]
     },
     "execution_count": 12,
     "metadata": {},
     "output_type": "execute_result"
    }
   ],
   "source": [
    "df.corr().style.background_gradient().set_precision(2)"
   ]
  },
  {
   "cell_type": "markdown",
   "id": "c617cf4d",
   "metadata": {},
   "source": [
    "## Training Model"
   ]
  },
  {
   "cell_type": "code",
   "execution_count": 13,
   "id": "71693fae",
   "metadata": {},
   "outputs": [],
   "source": [
    "X = df.drop([\"HARGA\"],axis = 1)\n",
    "y = df[\"HARGA\"]"
   ]
  },
  {
   "cell_type": "code",
   "execution_count": 14,
   "id": "043f2b18",
   "metadata": {},
   "outputs": [
    {
     "data": {
      "text/html": [
       "<div>\n",
       "<style scoped>\n",
       "    .dataframe tbody tr th:only-of-type {\n",
       "        vertical-align: middle;\n",
       "    }\n",
       "\n",
       "    .dataframe tbody tr th {\n",
       "        vertical-align: top;\n",
       "    }\n",
       "\n",
       "    .dataframe thead th {\n",
       "        text-align: right;\n",
       "    }\n",
       "</style>\n",
       "<table border=\"1\" class=\"dataframe\">\n",
       "  <thead>\n",
       "    <tr style=\"text-align: right;\">\n",
       "      <th></th>\n",
       "      <th>LB</th>\n",
       "      <th>LT</th>\n",
       "      <th>KT</th>\n",
       "      <th>KM</th>\n",
       "      <th>GRS</th>\n",
       "    </tr>\n",
       "  </thead>\n",
       "  <tbody>\n",
       "    <tr>\n",
       "      <th>0</th>\n",
       "      <td>220</td>\n",
       "      <td>220</td>\n",
       "      <td>3</td>\n",
       "      <td>3</td>\n",
       "      <td>0</td>\n",
       "    </tr>\n",
       "    <tr>\n",
       "      <th>1</th>\n",
       "      <td>180</td>\n",
       "      <td>137</td>\n",
       "      <td>4</td>\n",
       "      <td>3</td>\n",
       "      <td>2</td>\n",
       "    </tr>\n",
       "    <tr>\n",
       "      <th>2</th>\n",
       "      <td>267</td>\n",
       "      <td>250</td>\n",
       "      <td>4</td>\n",
       "      <td>4</td>\n",
       "      <td>4</td>\n",
       "    </tr>\n",
       "    <tr>\n",
       "      <th>3</th>\n",
       "      <td>40</td>\n",
       "      <td>25</td>\n",
       "      <td>2</td>\n",
       "      <td>2</td>\n",
       "      <td>0</td>\n",
       "    </tr>\n",
       "    <tr>\n",
       "      <th>4</th>\n",
       "      <td>400</td>\n",
       "      <td>355</td>\n",
       "      <td>6</td>\n",
       "      <td>5</td>\n",
       "      <td>3</td>\n",
       "    </tr>\n",
       "    <tr>\n",
       "      <th>...</th>\n",
       "      <td>...</td>\n",
       "      <td>...</td>\n",
       "      <td>...</td>\n",
       "      <td>...</td>\n",
       "      <td>...</td>\n",
       "    </tr>\n",
       "    <tr>\n",
       "      <th>1004</th>\n",
       "      <td>100</td>\n",
       "      <td>140</td>\n",
       "      <td>3</td>\n",
       "      <td>2</td>\n",
       "      <td>1</td>\n",
       "    </tr>\n",
       "    <tr>\n",
       "      <th>1005</th>\n",
       "      <td>450</td>\n",
       "      <td>550</td>\n",
       "      <td>10</td>\n",
       "      <td>10</td>\n",
       "      <td>3</td>\n",
       "    </tr>\n",
       "    <tr>\n",
       "      <th>1006</th>\n",
       "      <td>160</td>\n",
       "      <td>140</td>\n",
       "      <td>4</td>\n",
       "      <td>3</td>\n",
       "      <td>2</td>\n",
       "    </tr>\n",
       "    <tr>\n",
       "      <th>1008</th>\n",
       "      <td>360</td>\n",
       "      <td>606</td>\n",
       "      <td>7</td>\n",
       "      <td>4</td>\n",
       "      <td>0</td>\n",
       "    </tr>\n",
       "    <tr>\n",
       "      <th>1009</th>\n",
       "      <td>420</td>\n",
       "      <td>430</td>\n",
       "      <td>7</td>\n",
       "      <td>4</td>\n",
       "      <td>2</td>\n",
       "    </tr>\n",
       "  </tbody>\n",
       "</table>\n",
       "<p>967 rows × 5 columns</p>\n",
       "</div>"
      ],
      "text/plain": [
       "       LB   LT  KT  KM  GRS\n",
       "0     220  220   3   3    0\n",
       "1     180  137   4   3    2\n",
       "2     267  250   4   4    4\n",
       "3      40   25   2   2    0\n",
       "4     400  355   6   5    3\n",
       "...   ...  ...  ..  ..  ...\n",
       "1004  100  140   3   2    1\n",
       "1005  450  550  10  10    3\n",
       "1006  160  140   4   3    2\n",
       "1008  360  606   7   4    0\n",
       "1009  420  430   7   4    2\n",
       "\n",
       "[967 rows x 5 columns]"
      ]
     },
     "execution_count": 14,
     "metadata": {},
     "output_type": "execute_result"
    }
   ],
   "source": [
    "X"
   ]
  },
  {
   "cell_type": "code",
   "execution_count": 15,
   "id": "22cc2aa4",
   "metadata": {},
   "outputs": [
    {
     "data": {
      "text/plain": [
       "0        3800000000\n",
       "1        4600000000\n",
       "2        3000000000\n",
       "3         430000000\n",
       "4        9000000000\n",
       "           ...     \n",
       "1004     2600000000\n",
       "1005     9000000000\n",
       "1006     4000000000\n",
       "1008    19000000000\n",
       "1009    10500000000\n",
       "Name: HARGA, Length: 967, dtype: int64"
      ]
     },
     "execution_count": 15,
     "metadata": {},
     "output_type": "execute_result"
    }
   ],
   "source": [
    "y"
   ]
  },
  {
   "cell_type": "code",
   "execution_count": 16,
   "id": "fe3af2a0",
   "metadata": {},
   "outputs": [],
   "source": [
    "X_train, X_test, y_train, y_test = train_test_split(X, y, test_size = 0.25, random_state = 0)"
   ]
  },
  {
   "cell_type": "code",
   "execution_count": 17,
   "id": "7f725c9d",
   "metadata": {},
   "outputs": [],
   "source": [
    "def Elbow(K):\n",
    "  #inisialisasi list kosong\n",
    "  test_mse =[]\n",
    "\n",
    "  #train model pada setiap nilai K\n",
    "  for i in K:\n",
    "    model = KNeighborsRegressor(n_neighbors=i)\n",
    "    model.fit(X_train, y_train)\n",
    "    tmp = model.predict(X_test)\n",
    "    tmp = mean_squared_error(tmp, y_test)\n",
    "    test_mse.append(tmp)\n",
    "  \n",
    "  return test_mse"
   ]
  },
  {
   "cell_type": "code",
   "execution_count": 18,
   "id": "011c7617",
   "metadata": {},
   "outputs": [
    {
     "data": {
      "text/plain": [
       "Text(0.5, 1.0, 'Elbow Curve for Test')"
      ]
     },
     "execution_count": 18,
     "metadata": {},
     "output_type": "execute_result"
    },
    {
     "data": {
      "image/png": "[encoded data removed]",
      "text/plain": [
       "<Figure size 432x288 with 1 Axes>"
      ]
     },
     "metadata": {
      "needs_background": "light"
     },
     "output_type": "display_data"
    }
   ],
   "source": [
    "K = range(1, 10)\n",
    "test = Elbow(K)\n",
    "\n",
    "#plotting\n",
    "plt.plot(K,test)\n",
    "plt.xlabel('K Neighbors')\n",
    "plt.ylabel('Mean Squared Error (MSE)')\n",
    "plt.title('Elbow Curve for Test')"
   ]
  },
  {
   "cell_type": "code",
   "execution_count": 19,
   "id": "d607870f",
   "metadata": {},
   "outputs": [],
   "source": [
    "model= KNeighborsRegressor(2)\n",
    "model = model.fit(X_train, y_train)\n",
    "y_pred = model.predict(X_test)"
   ]
  },
  {
   "cell_type": "markdown",
   "id": "482fe8a4",
   "metadata": {},
   "source": [
    "## Evaluasi Model"
   ]
  },
  {
   "cell_type": "code",
   "execution_count": 20,
   "id": "abdb4f8e",
   "metadata": {},
   "outputs": [],
   "source": [
    "accuracy_train_KNN = model.score(X_train, y_train)\n",
    "accuracy_test_KNN  = model.score(X_test, y_test)"
   ]
  },
  {
   "cell_type": "code",
   "execution_count": 21,
   "id": "e97b5c2c",
   "metadata": {},
   "outputs": [
    {
     "name": "stdout",
     "output_type": "stream",
     "text": [
      "Akurasi Model KNN (Train) : 88.23 %\n",
      "Akurasi Model KNN (Test)  : 83.42 %\n",
      "MSE 9.29855178629034e+18\n",
      "R Score 0.8342411981115888\n"
     ]
    }
   ],
   "source": [
    "print(f\"Akurasi Model KNN (Train) : {np.round(accuracy_train_KNN * 100,2)} %\")\n",
    "print(f\"Akurasi Model KNN (Test)  : {np.round(accuracy_test_KNN * 100,2)} %\")\n",
    "print(\"MSE\",mean_squared_error(y_test,y_pred))\n",
    "print(\"R Score\",r2_score(y_test, y_pred))"
   ]
  },
  {
   "cell_type": "markdown",
   "id": "21565a71",
   "metadata": {},
   "source": [
    "## Menyimpan Model"
   ]
  },
  {
   "cell_type": "code",
   "execution_count": 53,
   "id": "6de9bb1d",
   "metadata": {},
   "outputs": [
    {
     "data": {
      "text/plain": [
       "['harga_rumah_knnregressor_fiks.model']"
      ]
     },
     "execution_count": 53,
     "metadata": {},
     "output_type": "execute_result"
    }
   ],
   "source": [
    "joblib.dump((model), \"harga_rumah_knnregressor_fiks.model\")"
   ]
  },
  {
   "cell_type": "code",
   "execution_count": 54,
   "id": "d17a36c7",
   "metadata": {},
   "outputs": [
    {
     "data": {
      "text/html": [
       "<div>\n",
       "<style scoped>\n",
       "    .dataframe tbody tr th:only-of-type {\n",
       "        vertical-align: middle;\n",
       "    }\n",
       "\n",
       "    .dataframe tbody tr th {\n",
       "        vertical-align: top;\n",
       "    }\n",
       "\n",
       "    .dataframe thead th {\n",
       "        text-align: right;\n",
       "    }\n",
       "</style>\n",
       "<table border=\"1\" class=\"dataframe\">\n",
       "  <thead>\n",
       "    <tr style=\"text-align: right;\">\n",
       "      <th></th>\n",
       "      <th>HARGA</th>\n",
       "      <th>LB</th>\n",
       "      <th>LT</th>\n",
       "      <th>KT</th>\n",
       "      <th>KM</th>\n",
       "      <th>GRS</th>\n",
       "    </tr>\n",
       "  </thead>\n",
       "  <tbody>\n",
       "    <tr>\n",
       "      <th>0</th>\n",
       "      <td>3800000000</td>\n",
       "      <td>220</td>\n",
       "      <td>220</td>\n",
       "      <td>3</td>\n",
       "      <td>3</td>\n",
       "      <td>0</td>\n",
       "    </tr>\n",
       "    <tr>\n",
       "      <th>1</th>\n",
       "      <td>4600000000</td>\n",
       "      <td>180</td>\n",
       "      <td>137</td>\n",
       "      <td>4</td>\n",
       "      <td>3</td>\n",
       "      <td>2</td>\n",
       "    </tr>\n",
       "    <tr>\n",
       "      <th>2</th>\n",
       "      <td>3000000000</td>\n",
       "      <td>267</td>\n",
       "      <td>250</td>\n",
       "      <td>4</td>\n",
       "      <td>4</td>\n",
       "      <td>4</td>\n",
       "    </tr>\n",
       "    <tr>\n",
       "      <th>3</th>\n",
       "      <td>430000000</td>\n",
       "      <td>40</td>\n",
       "      <td>25</td>\n",
       "      <td>2</td>\n",
       "      <td>2</td>\n",
       "      <td>0</td>\n",
       "    </tr>\n",
       "    <tr>\n",
       "      <th>4</th>\n",
       "      <td>9000000000</td>\n",
       "      <td>400</td>\n",
       "      <td>355</td>\n",
       "      <td>6</td>\n",
       "      <td>5</td>\n",
       "      <td>3</td>\n",
       "    </tr>\n",
       "  </tbody>\n",
       "</table>\n",
       "</div>"
      ],
      "text/plain": [
       "        HARGA   LB   LT  KT  KM  GRS\n",
       "0  3800000000  220  220   3   3    0\n",
       "1  4600000000  180  137   4   3    2\n",
       "2  3000000000  267  250   4   4    4\n",
       "3   430000000   40   25   2   2    0\n",
       "4  9000000000  400  355   6   5    3"
      ]
     },
     "execution_count": 54,
     "metadata": {},
     "output_type": "execute_result"
    }
   ],
   "source": [
    "df.head()"
   ]
  },
  {
   "cell_type": "markdown",
   "id": "5e623016",
   "metadata": {},
   "source": [
    "## Prediksi"
   ]
  },
  {
   "cell_type": "code",
   "execution_count": 55,
   "id": "7fec3fd9",
   "metadata": {},
   "outputs": [
    {
     "data": {
      "text/plain": [
       "array([3.14999997e+10])"
      ]
     },
     "execution_count": 55,
     "metadata": {},
     "output_type": "execute_result"
    }
   ],
   "source": [
    "data_harga_rumah = np.array([[135, 650, 5, 3, 1]])\n",
    "pred = model.predict(data_harga_rumah)\n",
    "pred"
   ]
  }
 ],
 "metadata": {
  "kernelspec": {
   "display_name": "Python 3 (ipykernel)",
   "language": "python",
   "name": "python3"
  },
  "language_info": {
   "codemirror_mode": {
    "name": "ipython",
    "version": 3
   },
   "file_extension": ".py",
   "mimetype": "text/x-python",
   "name": "python",
   "nbconvert_exporter": "python",
   "pygments_lexer": "ipython3",
   "version": "3.9.12"
  }
 },
 "nbformat": 4,
 "nbformat_minor": 5
}
